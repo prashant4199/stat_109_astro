{
 "cells": [
  {
   "cell_type": "code",
   "execution_count": 1,
   "metadata": {},
   "outputs": [],
   "source": [
    "import numpy as np\n",
    "import matplotlib.pyplot as plt\n",
    "import pandas as pd\n",
    "from astropy.io import fits"
   ]
  },
  {
   "cell_type": "code",
   "execution_count": 4,
   "metadata": {},
   "outputs": [],
   "source": [
    "hdulist_goodspec = fits.open('../mastar-goodspec-v2_4_3-v1_0_2.fits') #Dataset containing spectr of stars\n",
    "hdulist_allStars = fits.open('../mastarall-v2_4_3-v1_0_2.fits')"
   ]
  },
  {
   "cell_type": "code",
   "execution_count": 5,
   "metadata": {},
   "outputs": [
    {
     "name": "stdout",
     "output_type": "stream",
     "text": [
      "Filename: ../mastar-goodspec-v2_4_3-v1_0_2.fits\n",
      "No.    Name      Ver    Type      Cards   Dimensions   Format\n",
      "  0  PRIMARY       1 PrimaryHDU       4   ()      \n",
      "  1                1 BinTableHDU     63   8646R x 23C   [6A, 6A, 11A, J, 5A, J, D, D, D, D, 5E, J, I, E, E, I, 4563D, 4563E, 4563E, 4563E, 4563E, 4563J, J]   \n"
     ]
    }
   ],
   "source": [
    "hdulist_goodspec.info()  #This command shows the tables contained in 'mastar-goodspec'\n",
    "# hdulist_allStars.info()"
   ]
  },
  {
   "cell_type": "code",
   "execution_count": 56,
   "metadata": {},
   "outputs": [
    {
     "data": {
      "text/plain": [
       "XTENSION= 'BINTABLE'           /Binary table written by MWRFITS v1.11           \n",
       "BITPIX  =                    8 /Required value                                  \n",
       "NAXIS   =                    2 /Required value                                  \n",
       "NAXIS1  =               127872 /Number of bytes per row                         \n",
       "NAXIS2  =                 8646 /Number of rows                                  \n",
       "PCOUNT  =                    0 /Normally 0 (no varying arrays)                  \n",
       "GCOUNT  =                    1 /Required value                                  \n",
       "TFIELDS =                   23 /Number of columns in table                      \n",
       "COMMENT                                                                         \n",
       "COMMENT  *** End of mandatory fields ***                                        \n",
       "COMMENT                                                                         \n",
       "COMMENT                                                                         \n",
       "COMMENT  *** Column names ***                                                   \n",
       "COMMENT                                                                         \n",
       "TTYPE1  = 'DRPVER  '           /                                                \n",
       "TTYPE2  = 'MPROCVER'           /                                                \n",
       "TTYPE3  = 'MANGAID '           /                                                \n",
       "TTYPE4  = 'PLATE   '           /                                                \n",
       "TTYPE5  = 'IFUDESIGN'          /                                                \n",
       "TTYPE6  = 'MJD     '           /                                                \n",
       "TTYPE7  = 'IFURA   '           /                                                \n",
       "TTYPE8  = 'IFUDEC  '           /                                                \n",
       "TTYPE9  = 'OBJRA   '           /                                                \n",
       "TTYPE10 = 'OBJDEC  '           /                                                \n",
       "TTYPE11 = 'PSFMAG  '           /                                                \n",
       "TTYPE12 = 'MNGTARG2'           /                                                \n",
       "TTYPE13 = 'NEXP    '           /                                                \n",
       "TTYPE14 = 'HELIOV  '           /                                                \n",
       "TTYPE15 = 'VERR    '           /                                                \n",
       "TTYPE16 = 'V_ERRCODE'          /                                                \n",
       "TTYPE17 = 'WAVE    '           /                                                \n",
       "TTYPE18 = 'FLUX    '           /                                                \n",
       "TTYPE19 = 'IVAR    '           /                                                \n",
       "TTYPE20 = 'DISP    '           /                                                \n",
       "TTYPE21 = 'PREDISP '           /                                                \n",
       "TTYPE22 = 'MASK    '           /                                                \n",
       "TTYPE23 = 'MJDQUAL '           /                                                \n",
       "COMMENT                                                                         \n",
       "COMMENT  *** Column formats ***                                                 \n",
       "COMMENT                                                                         \n",
       "TFORM1  = '6A      '           /                                                \n",
       "TFORM2  = '6A      '           /                                                \n",
       "TFORM3  = '11A     '           /                                                \n",
       "TFORM4  = 'J       '           /                                                \n",
       "TFORM5  = '5A      '           /                                                \n",
       "TFORM6  = 'J       '           /                                                \n",
       "TFORM7  = 'D       '           /                                                \n",
       "TFORM8  = 'D       '           /                                                \n",
       "TFORM9  = 'D       '           /                                                \n",
       "TFORM10 = 'D       '           /                                                \n",
       "TFORM11 = '5E      '           /                                                \n",
       "TFORM12 = 'J       '           /                                                \n",
       "TFORM13 = 'I       '           /                                                \n",
       "TFORM14 = 'E       '           /                                                \n",
       "TFORM15 = 'E       '           /                                                \n",
       "TFORM16 = 'I       '           /                                                \n",
       "TFORM17 = '4563D   '           /                                                \n",
       "TFORM18 = '4563E   '           /                                                \n",
       "TFORM19 = '4563E   '           /                                                \n",
       "TFORM20 = '4563E   '           /                                                \n",
       "TFORM21 = '4563E   '           /                                                \n",
       "TFORM22 = '4563J   '           /                                                \n",
       "TFORM23 = 'J       '           /                                                "
      ]
     },
     "execution_count": 56,
     "metadata": {},
     "output_type": "execute_result"
    }
   ],
   "source": [
    "hdulist_goodspec[1].header  #Info about the columns"
   ]
  },
  {
   "cell_type": "code",
   "execution_count": 6,
   "metadata": {},
   "outputs": [],
   "source": [
    "data_goodSpec = hdulist_goodspec[1].data\n",
    "data_AllStar = hdulist_allStars[1].data\n",
    "# a=pd.DataFrame(data_AllStar['MANGAID'])\n",
    "# b=pd.DataFrame(data_goodSpec['MANGAID'])\n",
    "# a"
   ]
  },
  {
   "cell_type": "code",
   "execution_count": 7,
   "metadata": {},
   "outputs": [],
   "source": [
    "# pd.merge(a,b,how='outer')"
   ]
  },
  {
   "cell_type": "code",
   "execution_count": 8,
   "metadata": {},
   "outputs": [
    {
     "data": {
      "image/png": "[encoded data removed]",
      "text/plain": [
       "<Figure size 432x288 with 1 Axes>"
      ]
     },
     "metadata": {
      "needs_background": "light"
     },
     "output_type": "display_data"
    }
   ],
   "source": [
    "N=2   #Number of stars plotted (flux vs wavelength in nm)\n",
    "\n",
    "for i in range(0,N):\n",
    "    plt.scatter(data_goodSpec['WAVE'][i]/10,np.array(data_goodSpec['FLUX'])[i])   \n",
    "#plt.legend(data['MANGAID'][0:N+1])\n",
    "\n"
   ]
  },
  {
   "cell_type": "code",
   "execution_count": 9,
   "metadata": {},
   "outputs": [],
   "source": [
    "def index_max(array):\n",
    "    return np.where(array== np.max(array))[0][0]"
   ]
  },
  {
   "cell_type": "code",
   "execution_count": 10,
   "metadata": {},
   "outputs": [],
   "source": [
    "waveLenght = np.array([])\n",
    "for i in range(len(data_goodSpec)):\n",
    "    waveLenght = np.append(waveLenght, data_goodSpec['WAVE'][i][index_max(data_goodSpec['FLUX'][i])]/10**10)"
   ]
  },
  {
   "cell_type": "code",
   "execution_count": 11,
   "metadata": {},
   "outputs": [],
   "source": [
    "WienConstant = 2.898*10**-3 # m*K\n",
    "T = WienConstant/waveLenght"
   ]
  },
  {
   "cell_type": "code",
   "execution_count": 12,
   "metadata": {},
   "outputs": [
    {
     "data": {
      "text/plain": [
       "array([3.62159598e+13, 3.62242998e+13, 3.62326418e+13, ...,\n",
       "       1.03490384e+14, 1.03514217e+14, 1.03538054e+14])"
      ]
     },
     "execution_count": 12,
     "metadata": {},
     "output_type": "execute_result"
    }
   ],
   "source": [
    "data_goodSpec['WAVE'][0]/10**-10"
   ]
  },
  {
   "cell_type": "code",
   "execution_count": 13,
   "metadata": {},
   "outputs": [
    {
     "data": {
      "text/plain": [
       "array([[-999.    ,   13.388 ,   12.751 ,   12.358 , -999.    ],\n",
       "       [-999.    ,   14.382 ,   13.325 ,   12.819 , -999.    ],\n",
       "       [-999.    ,   13.836 ,   12.647 , -999.    , -999.    ],\n",
       "       ...,\n",
       "       [-999.    ,   15.1291,   14.6054,   14.3672,   14.2424],\n",
       "       [-999.    ,   15.1291,   14.6054,   14.3672,   14.2424],\n",
       "       [-999.    ,   12.832 ,   11.905 ,   13.003 , -999.    ]],\n",
       "      dtype=float32)"
      ]
     },
     "execution_count": 13,
     "metadata": {},
     "output_type": "execute_result"
    }
   ],
   "source": [
    "data_goodSpec['PSFMAG']"
   ]
  },
  {
   "cell_type": "code",
   "execution_count": 14,
   "metadata": {},
   "outputs": [],
   "source": [
    "spectral_type = {'A': ['White',range(7500,10000)], 'F': ['Yellow', range(6000,7500)], 'G': ['Deep Yellow',range(5000,6000)],\\\n",
    "                        'K': ['Orange',range(3500,5000)], 'M':['Red',range(3500)] }"
   ]
  },
  {
   "cell_type": "code",
   "execution_count": null,
   "metadata": {},
   "outputs": [],
   "source": []
  }
 ],
 "metadata": {
  "kernelspec": {
   "display_name": "Python 3",
   "language": "python",
   "name": "python3"
  },
  "language_info": {
   "codemirror_mode": {
    "name": "ipython",
    "version": 3
   },
   "file_extension": ".py",
   "mimetype": "text/x-python",
   "name": "python",
   "nbconvert_exporter": "python",
   "pygments_lexer": "ipython3",
   "version": "3.8.8"
  }
 },
 "nbformat": 4,
 "nbformat_minor": 4
}
