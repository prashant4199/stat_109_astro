{
 "cells": [
  {
   "cell_type": "code",
   "execution_count": 2,
   "metadata": {},
   "outputs": [],
   "source": [
    "import numpy as np\n",
    "import pandas as pd\n",
    "import matplotlib.pyplot as plt"
   ]
  },
  {
   "cell_type": "code",
   "execution_count": 27,
   "metadata": {},
   "outputs": [
    {
     "data": {
      "text/plain": [
       "'C:\\\\Users\\\\danie\\\\Documents\\\\Harvard Extension School\\\\STAT E-109\\\\Project'"
      ]
     },
     "execution_count": 27,
     "metadata": {},
     "output_type": "execute_result"
    }
   ],
   "source": [
    "import os\n",
    "os.getcwd()"
   ]
  },
  {
   "cell_type": "code",
   "execution_count": 34,
   "metadata": {},
   "outputs": [
    {
     "name": "stderr",
     "output_type": "stream",
     "text": [
      "(debug)url:http://vizier.u-strasbg.fr/viz-bin//asu-txt?&-source=V/137D/XHIP&-out.add=B-V,HpMag,Plx,e_Plx&-out.max=99999&-20<HpMag<20\n"
     ]
    }
   ],
   "source": [
    "!python C:\\\\ProgramData\\\\Anaconda3\\\\lib\\\\site-packages\\\\cdsclient\\\\vizquery.py -source=V/137D/XHIP -out.add=B-V,HpMag,Plx,e_Plx -out.max=99999 \"-20<HpMag<20\" >> \"data.txt\""
   ]
  },
  {
   "cell_type": "code",
   "execution_count": 35,
   "metadata": {},
   "outputs": [],
   "source": [
    "df = pd.read_fwf(\"data.txt\", delimiter=\" \", skiprows=47)"
   ]
  },
  {
   "cell_type": "code",
   "execution_count": 36,
   "metadata": {
    "scrolled": true
   },
   "outputs": [
    {
     "data": {
      "text/html": [
       "<div>\n",
       "<style scoped>\n",
       "    .dataframe tbody tr th:only-of-type {\n",
       "        vertical-align: middle;\n",
       "    }\n",
       "\n",
       "    .dataframe tbody tr th {\n",
       "        vertical-align: top;\n",
       "    }\n",
       "\n",
       "    .dataframe thead th {\n",
       "        text-align: right;\n",
       "    }\n",
       "</style>\n",
       "<table border=\"1\" class=\"dataframe\">\n",
       "  <thead>\n",
       "    <tr style=\"text-align: right;\">\n",
       "      <th></th>\n",
       "      <th>(mag)</th>\n",
       "      <th>(mag).1</th>\n",
       "      <th>(mas)</th>\n",
       "      <th>(mas).1</th>\n",
       "      <th>HIP</th>\n",
       "      <th>Comp</th>\n",
       "      <th>r</th>\n",
       "      <th>AJ2000 (deg)</th>\n",
       "      <th>EJ2000 (deg)</th>\n",
       "      <th>st (pc)</th>\n",
       "      <th>X (pc)</th>\n",
       "      <th>Y (pc)</th>\n",
       "      <th>Z (pc)</th>\n",
       "      <th>SpType</th>\n",
       "      <th>Sun])</th>\n",
       "      <th>Simbad</th>\n",
       "      <th>(mag).2</th>\n",
       "      <th>um (Lsun)</th>\n",
       "      <th>Cst</th>\n",
       "    </tr>\n",
       "  </thead>\n",
       "  <tbody>\n",
       "    <tr>\n",
       "      <th>0</th>\n",
       "      <td>------</td>\n",
       "      <td>------</td>\n",
       "      <td>------</td>\n",
       "      <td>-----</td>\n",
       "      <td>------</td>\n",
       "      <td>------</td>\n",
       "      <td>-</td>\n",
       "      <td>------------</td>\n",
       "      <td>------------</td>\n",
       "      <td>-------</td>\n",
       "      <td>------</td>\n",
       "      <td>-------</td>\n",
       "      <td>------</td>\n",
       "      <td>--------------------------</td>\n",
       "      <td>-----</td>\n",
       "      <td>------</td>\n",
       "      <td>------</td>\n",
       "      <td>---------</td>\n",
       "      <td>---</td>\n",
       "    </tr>\n",
       "    <tr>\n",
       "      <th>1</th>\n",
       "      <td>0.482</td>\n",
       "      <td>NaN</td>\n",
       "      <td>4.55</td>\n",
       "      <td>1.33</td>\n",
       "      <td>1</td>\n",
       "      <td>NaN</td>\n",
       "      <td>NaN</td>\n",
       "      <td>000.00091185</td>\n",
       "      <td>+01.08901332</td>\n",
       "      <td>NaN</td>\n",
       "      <td>NaN</td>\n",
       "      <td>NaN</td>\n",
       "      <td>NaN</td>\n",
       "      <td>F3 V</td>\n",
       "      <td>NaN</td>\n",
       "      <td>Simbad</td>\n",
       "      <td>9.204</td>\n",
       "      <td>NaN</td>\n",
       "      <td>Psc</td>\n",
       "    </tr>\n",
       "    <tr>\n",
       "      <th>2</th>\n",
       "      <td>0.999</td>\n",
       "      <td>6.005</td>\n",
       "      <td>20.85</td>\n",
       "      <td>1.13</td>\n",
       "      <td>2</td>\n",
       "      <td>A</td>\n",
       "      <td>NaN</td>\n",
       "      <td>000.00379738</td>\n",
       "      <td>-19.49883738</td>\n",
       "      <td>47.79</td>\n",
       "      <td>5.2</td>\n",
       "      <td>10.3</td>\n",
       "      <td>-46.4</td>\n",
       "      <td>K3 V</td>\n",
       "      <td>NaN</td>\n",
       "      <td>Simbad</td>\n",
       "      <td>9.402</td>\n",
       "      <td>0.54</td>\n",
       "      <td>Cet</td>\n",
       "    </tr>\n",
       "    <tr>\n",
       "      <th>3</th>\n",
       "      <td>-0.019</td>\n",
       "      <td>-1.556</td>\n",
       "      <td>2.26</td>\n",
       "      <td>0.36</td>\n",
       "      <td>3</td>\n",
       "      <td>AB</td>\n",
       "      <td>NaN</td>\n",
       "      <td>000.00500794</td>\n",
       "      <td>+38.85928608</td>\n",
       "      <td>429.40</td>\n",
       "      <td>-148.7</td>\n",
       "      <td>366.4</td>\n",
       "      <td>-167.3</td>\n",
       "      <td>B8V</td>\n",
       "      <td>NaN</td>\n",
       "      <td>Simbad</td>\n",
       "      <td>6.608</td>\n",
       "      <td>436.65</td>\n",
       "      <td>And</td>\n",
       "    </tr>\n",
       "    <tr>\n",
       "      <th>4</th>\n",
       "      <td>0.370</td>\n",
       "      <td>2.538</td>\n",
       "      <td>7.45</td>\n",
       "      <td>0.77</td>\n",
       "      <td>4</td>\n",
       "      <td>NaN</td>\n",
       "      <td>NaN</td>\n",
       "      <td>000.00838188</td>\n",
       "      <td>-51.89354611</td>\n",
       "      <td>132.53</td>\n",
       "      <td>46.0</td>\n",
       "      <td>-37.5</td>\n",
       "      <td>-118.5</td>\n",
       "      <td>F0 V</td>\n",
       "      <td>-0.39</td>\n",
       "      <td>Simbad</td>\n",
       "      <td>8.150</td>\n",
       "      <td>9.17</td>\n",
       "      <td>Phe</td>\n",
       "    </tr>\n",
       "    <tr>\n",
       "      <th>...</th>\n",
       "      <td>...</td>\n",
       "      <td>...</td>\n",
       "      <td>...</td>\n",
       "      <td>...</td>\n",
       "      <td>...</td>\n",
       "      <td>...</td>\n",
       "      <td>...</td>\n",
       "      <td>...</td>\n",
       "      <td>...</td>\n",
       "      <td>...</td>\n",
       "      <td>...</td>\n",
       "      <td>...</td>\n",
       "      <td>...</td>\n",
       "      <td>...</td>\n",
       "      <td>...</td>\n",
       "      <td>...</td>\n",
       "      <td>...</td>\n",
       "      <td>...</td>\n",
       "      <td>...</td>\n",
       "    </tr>\n",
       "    <tr>\n",
       "      <th>99996</th>\n",
       "      <td>1.092</td>\n",
       "      <td>2.374</td>\n",
       "      <td>7.43</td>\n",
       "      <td>1.39</td>\n",
       "      <td>100342</td>\n",
       "      <td>NaN</td>\n",
       "      <td>NaN</td>\n",
       "      <td>305.24720080</td>\n",
       "      <td>-15.42858770</td>\n",
       "      <td>129.16</td>\n",
       "      <td>101.5</td>\n",
       "      <td>55.1</td>\n",
       "      <td>-57.9</td>\n",
       "      <td>K0 III</td>\n",
       "      <td>NaN</td>\n",
       "      <td>Simbad</td>\n",
       "      <td>7.930</td>\n",
       "      <td>17.50</td>\n",
       "      <td>Cap</td>\n",
       "    </tr>\n",
       "    <tr>\n",
       "      <th>99997</th>\n",
       "      <td>1.498</td>\n",
       "      <td>NaN</td>\n",
       "      <td>2.07</td>\n",
       "      <td>0.82</td>\n",
       "      <td>100343</td>\n",
       "      <td>NaN</td>\n",
       "      <td>NaN</td>\n",
       "      <td>305.24777161</td>\n",
       "      <td>+27.41286820</td>\n",
       "      <td>NaN</td>\n",
       "      <td>NaN</td>\n",
       "      <td>NaN</td>\n",
       "      <td>NaN</td>\n",
       "      <td>K2</td>\n",
       "      <td>NaN</td>\n",
       "      <td>Simbad</td>\n",
       "      <td>8.295</td>\n",
       "      <td>NaN</td>\n",
       "      <td>Vul</td>\n",
       "    </tr>\n",
       "    <tr>\n",
       "      <th>99998</th>\n",
       "      <td>1.159</td>\n",
       "      <td>NaN</td>\n",
       "      <td>2.08</td>\n",
       "      <td>1.40</td>\n",
       "      <td>100344</td>\n",
       "      <td>NaN</td>\n",
       "      <td>NaN</td>\n",
       "      <td>305.24795981</td>\n",
       "      <td>+14.61021065</td>\n",
       "      <td>NaN</td>\n",
       "      <td>NaN</td>\n",
       "      <td>NaN</td>\n",
       "      <td>NaN</td>\n",
       "      <td>K0</td>\n",
       "      <td>NaN</td>\n",
       "      <td>Simbad</td>\n",
       "      <td>9.244</td>\n",
       "      <td>NaN</td>\n",
       "      <td>Del</td>\n",
       "    </tr>\n",
       "    <tr>\n",
       "      <th>99999</th>\n",
       "      <td>0.790</td>\n",
       "      <td>-1.871</td>\n",
       "      <td>9.48</td>\n",
       "      <td>0.95</td>\n",
       "      <td>100345</td>\n",
       "      <td>A</td>\n",
       "      <td>NaN</td>\n",
       "      <td>305.25269347</td>\n",
       "      <td>-14.78140119</td>\n",
       "      <td>104.23</td>\n",
       "      <td>81.6</td>\n",
       "      <td>45.5</td>\n",
       "      <td>-46.3</td>\n",
       "      <td>K0 :II: + A5:N</td>\n",
       "      <td>0.46</td>\n",
       "      <td>Simbad</td>\n",
       "      <td>3.210</td>\n",
       "      <td>663.00</td>\n",
       "      <td>Cap</td>\n",
       "    </tr>\n",
       "    <tr>\n",
       "      <th>100000</th>\n",
       "      <td>#END#</td>\n",
       "      <td>-ref=V</td>\n",
       "      <td>Tx3125</td>\n",
       "      <td>03 ==</td>\n",
       "      <td>======</td>\n",
       "      <td>======</td>\n",
       "      <td>=</td>\n",
       "      <td>============</td>\n",
       "      <td>============</td>\n",
       "      <td>=======</td>\n",
       "      <td>======</td>\n",
       "      <td>=======</td>\n",
       "      <td>======</td>\n",
       "      <td>==========================</td>\n",
       "      <td>=====</td>\n",
       "      <td>======</td>\n",
       "      <td>======</td>\n",
       "      <td>=========</td>\n",
       "      <td>===</td>\n",
       "    </tr>\n",
       "  </tbody>\n",
       "</table>\n",
       "<p>100001 rows × 19 columns</p>\n",
       "</div>"
      ],
      "text/plain": [
       "         (mag) (mag).1   (mas) (mas).1     HIP    Comp    r  AJ2000 (deg)  \\\n",
       "0       ------  ------  ------   -----  ------  ------    -  ------------   \n",
       "1        0.482     NaN    4.55    1.33       1     NaN  NaN  000.00091185   \n",
       "2        0.999   6.005   20.85    1.13       2       A  NaN  000.00379738   \n",
       "3       -0.019  -1.556    2.26    0.36       3      AB  NaN  000.00500794   \n",
       "4        0.370   2.538    7.45    0.77       4     NaN  NaN  000.00838188   \n",
       "...        ...     ...     ...     ...     ...     ...  ...           ...   \n",
       "99996    1.092   2.374    7.43    1.39  100342     NaN  NaN  305.24720080   \n",
       "99997    1.498     NaN    2.07    0.82  100343     NaN  NaN  305.24777161   \n",
       "99998    1.159     NaN    2.08    1.40  100344     NaN  NaN  305.24795981   \n",
       "99999    0.790  -1.871    9.48    0.95  100345       A  NaN  305.25269347   \n",
       "100000   #END#  -ref=V  Tx3125   03 ==  ======  ======    =  ============   \n",
       "\n",
       "        EJ2000 (deg)  st (pc)  X (pc)   Y (pc)  Z (pc)  \\\n",
       "0       ------------  -------  ------  -------  ------   \n",
       "1       +01.08901332      NaN     NaN      NaN     NaN   \n",
       "2       -19.49883738    47.79     5.2     10.3   -46.4   \n",
       "3       +38.85928608   429.40  -148.7    366.4  -167.3   \n",
       "4       -51.89354611   132.53    46.0    -37.5  -118.5   \n",
       "...              ...      ...     ...      ...     ...   \n",
       "99996   -15.42858770   129.16   101.5     55.1   -57.9   \n",
       "99997   +27.41286820      NaN     NaN      NaN     NaN   \n",
       "99998   +14.61021065      NaN     NaN      NaN     NaN   \n",
       "99999   -14.78140119   104.23    81.6     45.5   -46.3   \n",
       "100000  ============  =======  ======  =======  ======   \n",
       "\n",
       "                            SpType  Sun])  Simbad (mag).2  um (Lsun)  Cst  \n",
       "0       --------------------------  -----  ------  ------  ---------  ---  \n",
       "1                             F3 V    NaN  Simbad   9.204        NaN  Psc  \n",
       "2                             K3 V    NaN  Simbad   9.402       0.54  Cet  \n",
       "3                              B8V    NaN  Simbad   6.608     436.65  And  \n",
       "4                             F0 V  -0.39  Simbad   8.150       9.17  Phe  \n",
       "...                            ...    ...     ...     ...        ...  ...  \n",
       "99996                       K0 III    NaN  Simbad   7.930      17.50  Cap  \n",
       "99997                           K2    NaN  Simbad   8.295        NaN  Vul  \n",
       "99998                           K0    NaN  Simbad   9.244        NaN  Del  \n",
       "99999               K0 :II: + A5:N   0.46  Simbad   3.210     663.00  Cap  \n",
       "100000  ==========================  =====  ======  ======  =========  ===  \n",
       "\n",
       "[100001 rows x 19 columns]"
      ]
     },
     "execution_count": 36,
     "metadata": {},
     "output_type": "execute_result"
    }
   ],
   "source": [
    "df"
   ]
  },
  {
   "cell_type": "code",
   "execution_count": 37,
   "metadata": {},
   "outputs": [],
   "source": [
    "df.drop(df.tail(1).index,inplace=True)"
   ]
  },
  {
   "cell_type": "code",
   "execution_count": 38,
   "metadata": {},
   "outputs": [],
   "source": [
    "df_new_cols = ['B-V(mag)','HpMag(mag)','Plx','e_Plx','HIP','Comp','Gr','RAJ2000(deg)','DEJ2000(deg)','Dist(pc)','X(pc)'\\\n",
    "           ,'Y(pc)','Z(pc)','SpType','[Fe/H](Sun)','Simbad','Hpmag(mag)','Lum(Lsun)','Cst']\n",
    "\n",
    "change_cols = dict(zip(df.columns, df_new_cols))\n",
    "change_cols\n",
    "\n",
    "non_numeric_cols = ['HIP','Comp','Gr','Simbad','Cst','SpType']"
   ]
  },
  {
   "cell_type": "code",
   "execution_count": 39,
   "metadata": {},
   "outputs": [],
   "source": [
    "df.rename(columns = change_cols, inplace = True)"
   ]
  },
  {
   "cell_type": "code",
   "execution_count": 40,
   "metadata": {},
   "outputs": [
    {
     "data": {
      "text/plain": [
       "Index(['B-V(mag)', 'HpMag(mag)', 'Plx', 'e_Plx', 'RAJ2000(deg)',\n",
       "       'DEJ2000(deg)', 'Dist(pc)', 'X(pc)', 'Y(pc)', 'Z(pc)', '[Fe/H](Sun)',\n",
       "       'Hpmag(mag)', 'Lum(Lsun)'],\n",
       "      dtype='object')"
      ]
     },
     "execution_count": 40,
     "metadata": {},
     "output_type": "execute_result"
    }
   ],
   "source": [
    "numeric_cols = df.columns.drop(non_numeric_cols)\n",
    "numeric_cols"
   ]
  },
  {
   "cell_type": "code",
   "execution_count": 41,
   "metadata": {},
   "outputs": [],
   "source": [
    "df[numeric_cols] = df[numeric_cols].apply(pd.to_numeric, errors='coerce')"
   ]
  },
  {
   "cell_type": "code",
   "execution_count": 42,
   "metadata": {},
   "outputs": [
    {
     "data": {
      "text/plain": [
       "B-V(mag)         1005\n",
       "HpMag(mag)      48494\n",
       "Plx                 1\n",
       "e_Plx               1\n",
       "HIP                 0\n",
       "Comp            81923\n",
       "Gr              98427\n",
       "RAJ2000(deg)        1\n",
       "DEJ2000(deg)        1\n",
       "Dist(pc)        48398\n",
       "X(pc)           48398\n",
       "Y(pc)           48398\n",
       "Z(pc)           48398\n",
       "SpType           1601\n",
       "[Fe/H](Sun)     83775\n",
       "Simbad              0\n",
       "Hpmag(mag)          1\n",
       "Lum(Lsun)       49352\n",
       "Cst                 0\n",
       "dtype: int64"
      ]
     },
     "execution_count": 42,
     "metadata": {},
     "output_type": "execute_result"
    }
   ],
   "source": [
    "df.isna().sum()"
   ]
  },
  {
   "cell_type": "code",
   "execution_count": 43,
   "metadata": {},
   "outputs": [],
   "source": [
    "df.drop(labels=['Gr','Comp','Cst','Simbad'], axis=1, inplace = True)"
   ]
  },
  {
   "cell_type": "code",
   "execution_count": 44,
   "metadata": {},
   "outputs": [
    {
     "data": {
      "text/plain": [
       "B-V(mag)          82\n",
       "HpMag(mag)      1611\n",
       "Plx                0\n",
       "e_Plx              0\n",
       "HIP                0\n",
       "RAJ2000(deg)       0\n",
       "DEJ2000(deg)       0\n",
       "Dist(pc)        1590\n",
       "X(pc)           1590\n",
       "Y(pc)           1590\n",
       "Z(pc)           1590\n",
       "SpType            48\n",
       "[Fe/H](Sun)        0\n",
       "Hpmag(mag)         0\n",
       "Lum(Lsun)       1652\n",
       "dtype: int64"
      ]
     },
     "execution_count": 44,
     "metadata": {},
     "output_type": "execute_result"
    }
   ],
   "source": [
    "df = df.loc[df['[Fe/H](Sun)'].dropna().index]\n",
    "df.isna().sum()"
   ]
  },
  {
   "cell_type": "code",
   "execution_count": 45,
   "metadata": {},
   "outputs": [],
   "source": [
    "df.dropna(inplace=True)"
   ]
  },
  {
   "cell_type": "code",
   "execution_count": 46,
   "metadata": {},
   "outputs": [
    {
     "data": {
      "text/html": [
       "<div>\n",
       "<style scoped>\n",
       "    .dataframe tbody tr th:only-of-type {\n",
       "        vertical-align: middle;\n",
       "    }\n",
       "\n",
       "    .dataframe tbody tr th {\n",
       "        vertical-align: top;\n",
       "    }\n",
       "\n",
       "    .dataframe thead th {\n",
       "        text-align: right;\n",
       "    }\n",
       "</style>\n",
       "<table border=\"1\" class=\"dataframe\">\n",
       "  <thead>\n",
       "    <tr style=\"text-align: right;\">\n",
       "      <th></th>\n",
       "      <th>B-V(mag)</th>\n",
       "      <th>HpMag(mag)</th>\n",
       "      <th>Plx</th>\n",
       "      <th>e_Plx</th>\n",
       "      <th>HIP</th>\n",
       "      <th>RAJ2000(deg)</th>\n",
       "      <th>DEJ2000(deg)</th>\n",
       "      <th>Dist(pc)</th>\n",
       "      <th>X(pc)</th>\n",
       "      <th>Y(pc)</th>\n",
       "      <th>Z(pc)</th>\n",
       "      <th>SpType</th>\n",
       "      <th>[Fe/H](Sun)</th>\n",
       "      <th>Hpmag(mag)</th>\n",
       "      <th>Lum(Lsun)</th>\n",
       "    </tr>\n",
       "  </thead>\n",
       "  <tbody>\n",
       "    <tr>\n",
       "      <th>4</th>\n",
       "      <td>0.370</td>\n",
       "      <td>2.538</td>\n",
       "      <td>7.45</td>\n",
       "      <td>0.77</td>\n",
       "      <td>4</td>\n",
       "      <td>0.008382</td>\n",
       "      <td>-51.893546</td>\n",
       "      <td>132.53</td>\n",
       "      <td>46.0</td>\n",
       "      <td>-37.5</td>\n",
       "      <td>-118.5</td>\n",
       "      <td>F0 V</td>\n",
       "      <td>-0.39</td>\n",
       "      <td>8.150</td>\n",
       "      <td>9.17</td>\n",
       "    </tr>\n",
       "    <tr>\n",
       "      <th>20</th>\n",
       "      <td>0.516</td>\n",
       "      <td>3.712</td>\n",
       "      <td>10.35</td>\n",
       "      <td>0.82</td>\n",
       "      <td>20</td>\n",
       "      <td>0.062951</td>\n",
       "      <td>23.529284</td>\n",
       "      <td>95.90</td>\n",
       "      <td>-23.4</td>\n",
       "      <td>72.0</td>\n",
       "      <td>-58.9</td>\n",
       "      <td>G0</td>\n",
       "      <td>-0.27</td>\n",
       "      <td>8.621</td>\n",
       "      <td>3.38</td>\n",
       "    </tr>\n",
       "    <tr>\n",
       "      <th>23</th>\n",
       "      <td>0.456</td>\n",
       "      <td>2.992</td>\n",
       "      <td>11.59</td>\n",
       "      <td>0.68</td>\n",
       "      <td>23</td>\n",
       "      <td>0.074430</td>\n",
       "      <td>13.312211</td>\n",
       "      <td>85.93</td>\n",
       "      <td>-14.3</td>\n",
       "      <td>56.0</td>\n",
       "      <td>-63.6</td>\n",
       "      <td>F3IV/V</td>\n",
       "      <td>-0.27</td>\n",
       "      <td>7.663</td>\n",
       "      <td>6.30</td>\n",
       "    </tr>\n",
       "    <tr>\n",
       "      <th>25</th>\n",
       "      <td>0.763</td>\n",
       "      <td>1.879</td>\n",
       "      <td>12.29</td>\n",
       "      <td>0.77</td>\n",
       "      <td>25</td>\n",
       "      <td>0.079366</td>\n",
       "      <td>-44.290297</td>\n",
       "      <td>80.99</td>\n",
       "      <td>24.1</td>\n",
       "      <td>-13.6</td>\n",
       "      <td>-76.1</td>\n",
       "      <td>G5IV</td>\n",
       "      <td>-0.11</td>\n",
       "      <td>6.421</td>\n",
       "      <td>20.14</td>\n",
       "    </tr>\n",
       "    <tr>\n",
       "      <th>33</th>\n",
       "      <td>0.466</td>\n",
       "      <td>2.951</td>\n",
       "      <td>8.79</td>\n",
       "      <td>0.83</td>\n",
       "      <td>33</td>\n",
       "      <td>0.099181</td>\n",
       "      <td>-10.462454</td>\n",
       "      <td>112.56</td>\n",
       "      <td>3.6</td>\n",
       "      <td>39.3</td>\n",
       "      <td>-105.4</td>\n",
       "      <td>F3/5 V</td>\n",
       "      <td>-0.08</td>\n",
       "      <td>8.208</td>\n",
       "      <td>6.48</td>\n",
       "    </tr>\n",
       "    <tr>\n",
       "      <th>...</th>\n",
       "      <td>...</td>\n",
       "      <td>...</td>\n",
       "      <td>...</td>\n",
       "      <td>...</td>\n",
       "      <td>...</td>\n",
       "      <td>...</td>\n",
       "      <td>...</td>\n",
       "      <td>...</td>\n",
       "      <td>...</td>\n",
       "      <td>...</td>\n",
       "      <td>...</td>\n",
       "      <td>...</td>\n",
       "      <td>...</td>\n",
       "      <td>...</td>\n",
       "      <td>...</td>\n",
       "    </tr>\n",
       "    <tr>\n",
       "      <th>99975</th>\n",
       "      <td>0.459</td>\n",
       "      <td>3.346</td>\n",
       "      <td>17.46</td>\n",
       "      <td>0.40</td>\n",
       "      <td>100321</td>\n",
       "      <td>305.181943</td>\n",
       "      <td>82.368154</td>\n",
       "      <td>57.24</td>\n",
       "      <td>-22.3</td>\n",
       "      <td>47.3</td>\n",
       "      <td>23.3</td>\n",
       "      <td>F5IV</td>\n",
       "      <td>-0.05</td>\n",
       "      <td>7.134</td>\n",
       "      <td>4.30</td>\n",
       "    </tr>\n",
       "    <tr>\n",
       "      <th>99979</th>\n",
       "      <td>-0.016</td>\n",
       "      <td>1.028</td>\n",
       "      <td>9.61</td>\n",
       "      <td>0.90</td>\n",
       "      <td>100325</td>\n",
       "      <td>305.193844</td>\n",
       "      <td>-14.784893</td>\n",
       "      <td>102.97</td>\n",
       "      <td>80.6</td>\n",
       "      <td>44.9</td>\n",
       "      <td>-45.7</td>\n",
       "      <td>B9/A0 III/IV</td>\n",
       "      <td>0.38</td>\n",
       "      <td>6.092</td>\n",
       "      <td>40.54</td>\n",
       "    </tr>\n",
       "    <tr>\n",
       "      <th>99988</th>\n",
       "      <td>0.523</td>\n",
       "      <td>3.407</td>\n",
       "      <td>12.47</td>\n",
       "      <td>0.93</td>\n",
       "      <td>100334</td>\n",
       "      <td>305.223013</td>\n",
       "      <td>-18.156110</td>\n",
       "      <td>79.66</td>\n",
       "      <td>63.6</td>\n",
       "      <td>30.5</td>\n",
       "      <td>-37.0</td>\n",
       "      <td>G0 V</td>\n",
       "      <td>-0.21</td>\n",
       "      <td>7.913</td>\n",
       "      <td>4.45</td>\n",
       "    </tr>\n",
       "    <tr>\n",
       "      <th>99990</th>\n",
       "      <td>0.519</td>\n",
       "      <td>3.320</td>\n",
       "      <td>14.97</td>\n",
       "      <td>0.71</td>\n",
       "      <td>100336</td>\n",
       "      <td>305.224948</td>\n",
       "      <td>-45.545307</td>\n",
       "      <td>66.62</td>\n",
       "      <td>54.8</td>\n",
       "      <td>-5.3</td>\n",
       "      <td>-37.5</td>\n",
       "      <td>G5/K0 III + (F)</td>\n",
       "      <td>0.00</td>\n",
       "      <td>7.438</td>\n",
       "      <td>4.55</td>\n",
       "    </tr>\n",
       "    <tr>\n",
       "      <th>99999</th>\n",
       "      <td>0.790</td>\n",
       "      <td>-1.871</td>\n",
       "      <td>9.48</td>\n",
       "      <td>0.95</td>\n",
       "      <td>100345</td>\n",
       "      <td>305.252693</td>\n",
       "      <td>-14.781401</td>\n",
       "      <td>104.23</td>\n",
       "      <td>81.6</td>\n",
       "      <td>45.5</td>\n",
       "      <td>-46.3</td>\n",
       "      <td>K0 :II: + A5:N</td>\n",
       "      <td>0.46</td>\n",
       "      <td>3.210</td>\n",
       "      <td>663.00</td>\n",
       "    </tr>\n",
       "  </tbody>\n",
       "</table>\n",
       "<p>14563 rows × 15 columns</p>\n",
       "</div>"
      ],
      "text/plain": [
       "       B-V(mag)  HpMag(mag)    Plx  e_Plx     HIP  RAJ2000(deg)  DEJ2000(deg)  \\\n",
       "4         0.370       2.538   7.45   0.77       4      0.008382    -51.893546   \n",
       "20        0.516       3.712  10.35   0.82      20      0.062951     23.529284   \n",
       "23        0.456       2.992  11.59   0.68      23      0.074430     13.312211   \n",
       "25        0.763       1.879  12.29   0.77      25      0.079366    -44.290297   \n",
       "33        0.466       2.951   8.79   0.83      33      0.099181    -10.462454   \n",
       "...         ...         ...    ...    ...     ...           ...           ...   \n",
       "99975     0.459       3.346  17.46   0.40  100321    305.181943     82.368154   \n",
       "99979    -0.016       1.028   9.61   0.90  100325    305.193844    -14.784893   \n",
       "99988     0.523       3.407  12.47   0.93  100334    305.223013    -18.156110   \n",
       "99990     0.519       3.320  14.97   0.71  100336    305.224948    -45.545307   \n",
       "99999     0.790      -1.871   9.48   0.95  100345    305.252693    -14.781401   \n",
       "\n",
       "       Dist(pc)  X(pc)  Y(pc)  Z(pc)           SpType  [Fe/H](Sun)  \\\n",
       "4        132.53   46.0  -37.5 -118.5             F0 V        -0.39   \n",
       "20        95.90  -23.4   72.0  -58.9               G0        -0.27   \n",
       "23        85.93  -14.3   56.0  -63.6           F3IV/V        -0.27   \n",
       "25        80.99   24.1  -13.6  -76.1             G5IV        -0.11   \n",
       "33       112.56    3.6   39.3 -105.4           F3/5 V        -0.08   \n",
       "...         ...    ...    ...    ...              ...          ...   \n",
       "99975     57.24  -22.3   47.3   23.3             F5IV        -0.05   \n",
       "99979    102.97   80.6   44.9  -45.7     B9/A0 III/IV         0.38   \n",
       "99988     79.66   63.6   30.5  -37.0             G0 V        -0.21   \n",
       "99990     66.62   54.8   -5.3  -37.5  G5/K0 III + (F)         0.00   \n",
       "99999    104.23   81.6   45.5  -46.3   K0 :II: + A5:N         0.46   \n",
       "\n",
       "       Hpmag(mag)  Lum(Lsun)  \n",
       "4           8.150       9.17  \n",
       "20          8.621       3.38  \n",
       "23          7.663       6.30  \n",
       "25          6.421      20.14  \n",
       "33          8.208       6.48  \n",
       "...           ...        ...  \n",
       "99975       7.134       4.30  \n",
       "99979       6.092      40.54  \n",
       "99988       7.913       4.45  \n",
       "99990       7.438       4.55  \n",
       "99999       3.210     663.00  \n",
       "\n",
       "[14563 rows x 15 columns]"
      ]
     },
     "execution_count": 46,
     "metadata": {},
     "output_type": "execute_result"
    }
   ],
   "source": [
    "df"
   ]
  },
  {
   "cell_type": "code",
   "execution_count": 47,
   "metadata": {},
   "outputs": [
    {
     "data": {
      "text/plain": [
       "B-V(mag)        float64\n",
       "HpMag(mag)      float64\n",
       "Plx             float64\n",
       "e_Plx           float64\n",
       "HIP              object\n",
       "RAJ2000(deg)    float64\n",
       "DEJ2000(deg)    float64\n",
       "Dist(pc)        float64\n",
       "X(pc)           float64\n",
       "Y(pc)           float64\n",
       "Z(pc)           float64\n",
       "SpType           object\n",
       "[Fe/H](Sun)     float64\n",
       "Hpmag(mag)      float64\n",
       "Lum(Lsun)       float64\n",
       "dtype: object"
      ]
     },
     "execution_count": 47,
     "metadata": {},
     "output_type": "execute_result"
    }
   ],
   "source": [
    "df.dtypes"
   ]
  },
  {
   "cell_type": "code",
   "execution_count": 172,
   "metadata": {},
   "outputs": [
    {
     "data": {
      "image/png": "[encoded data removed]",
      "text/plain": [
       "<Figure size 432x288 with 1 Axes>"
      ]
     },
     "metadata": {
      "needs_background": "light"
     },
     "output_type": "display_data"
    }
   ],
   "source": [
    "df_temp = df.sample(14563)\n",
    "\n",
    "import seaborn as sns\n",
    "\n",
    "ax = plt.gca()\n",
    "x= np.array(df_temp['B-V(mag)'])\n",
    "y = np.array(df_temp['Lum(Lsun)'])\n",
    "#Fe = np.array(df_temp['[Fe/H](Sun)'])\n",
    "\n",
    "colors = {'Dwarf':'coral', 'Giant':'Blue', 'Other':'gray'}\n",
    "\n",
    "label = ['Dwarf','Giant','Other']\n",
    "#cm = plt.cm.get_cmap('RdYlBu')\n",
    "sc = ax.scatter(np.array(df_temp['B-V(mag)']),np.array(df_temp['Lum(Lsun)']),c=df['SType'].map(colors),alpha=0.5, label=label)\n",
    "\n",
    "plt.xlabel('B-V')\n",
    "plt.ylabel('Luminosity')\n",
    "plt.legend()\n",
    "ax.set_yscale('log')\n",
    "#plt.xticks(np.arange(min(x), max(x)+1, 1.0))\n",
    "#plt.colorbar(sc)\n",
    "plt.show()\n",
    "#ax.invert_xaxis()"
   ]
  },
  {
   "cell_type": "code",
   "execution_count": 191,
   "metadata": {},
   "outputs": [
    {
     "data": {
      "image/png": "[encoded data removed]",
      "text/plain": [
       "<Figure size 425.75x360 with 1 Axes>"
      ]
     },
     "metadata": {
      "needs_background": "light"
     },
     "output_type": "display_data"
    }
   ],
   "source": [
    "grid = sns.lmplot('B-V(mag)', 'Lum(Lsun)', data=df, hue='SType', fit_reg=False,scatter_kws={\"alpha\": 0.4})\n",
    "grid.set( yscale=\"log\")\n",
    "plt.savefig('HRdiagram.png')\n",
    "plt.show()"
   ]
  },
  {
   "cell_type": "code",
   "execution_count": 56,
   "metadata": {},
   "outputs": [
    {
     "data": {
      "text/plain": [
       "array([[0.71790006, 1.        , 0.24984187, 1.        ],\n",
       "       [0.65464896, 1.        , 0.31309298, 1.        ],\n",
       "       [1.        , 0.79956427, 0.        , 1.        ],\n",
       "       ...,\n",
       "       [0.93295383, 1.        , 0.03478811, 1.        ],\n",
       "       [0.60404807, 1.        , 0.36369386, 1.        ],\n",
       "       [0.78115117, 1.        , 0.18659077, 1.        ]])"
      ]
     },
     "execution_count": 56,
     "metadata": {},
     "output_type": "execute_result"
    }
   ],
   "source": [
    "def get_colors(inp, colormap, vmin=None, vmax=None):\n",
    "    norm = plt.Normalize(vmin, vmax)\n",
    "    return colormap(norm(inp))\n",
    "\n",
    "colors = get_colors(Fe, plt.cm.jet)\n",
    "colors"
   ]
  },
  {
   "cell_type": "code",
   "execution_count": 104,
   "metadata": {},
   "outputs": [],
   "source": [
    "from __future__ import print_function, division\n",
    "from PyAstronomy import pyasl"
   ]
  },
  {
   "cell_type": "code",
   "execution_count": 106,
   "metadata": {},
   "outputs": [],
   "source": [
    "b = pyasl.BallesterosBV_T()\n",
    "T= b.bv2T(df['B-V(mag)'])"
   ]
  },
  {
   "cell_type": "code",
   "execution_count": 137,
   "metadata": {},
   "outputs": [],
   "source": [
    "def Temp(B_V):\n",
    "    T= 8540/(B_V+0.865)\n",
    "    return T\n",
    "\n",
    "df['Temperature'] =  T\n",
    "\n",
    "df['Radius(Rsun)'] = 1181.57*np.sqrt(df['Lum(Lsun)']) /df['Temperature']\n",
    "\n",
    "df['Mass'] = df['Lum(Lsun)']**2/7\n",
    "\n",
    "df['Spectral_Class'] = [Element[0] for Element in df['SpType']]"
   ]
  },
  {
   "cell_type": "code",
   "execution_count": 138,
   "metadata": {},
   "outputs": [
    {
     "data": {
      "text/plain": [
       "4        F\n",
       "20       G\n",
       "23       F\n",
       "25       G\n",
       "33       F\n",
       "        ..\n",
       "99975    F\n",
       "99979    B\n",
       "99988    G\n",
       "99990    G\n",
       "99999    K\n",
       "Name: Spectral_Class, Length: 14563, dtype: object"
      ]
     },
     "execution_count": 138,
     "metadata": {},
     "output_type": "execute_result"
    }
   ],
   "source": [
    "df['Spectral_Class']"
   ]
  },
  {
   "cell_type": "code",
   "execution_count": 107,
   "metadata": {},
   "outputs": [
    {
     "data": {
      "image/png": "[encoded data removed]",
      "text/plain": [
       "<Figure size 432x288 with 1 Axes>"
      ]
     },
     "metadata": {
      "needs_background": "light"
     },
     "output_type": "display_data"
    }
   ],
   "source": [
    "ax1 = plt.gca()\n",
    "ax1.scatter(T, y)\n",
    "ax1.set_yscale('log')\n",
    "ax1.invert_xaxis()\n"
   ]
  },
  {
   "cell_type": "code",
   "execution_count": 64,
   "metadata": {},
   "outputs": [],
   "source": [
    "def label_gen_stars(star):\n",
    "    dwarf = ['D','VI', 'VII', 'V']\n",
    "    giant = ['IV', 'III', 'II', 'Ib', 'Ia', 'Ia-O']\n",
    "    for i in dwarf :\n",
    "        if i in star:\n",
    "            return 'Dwarf'\n",
    "    for i in giant:\n",
    "        if i in star:\n",
    "            return 'Giant'\n",
    "    return 'Other'"
   ]
  },
  {
   "cell_type": "code",
   "execution_count": 65,
   "metadata": {},
   "outputs": [
    {
     "data": {
      "text/plain": [
       "'Other'"
      ]
     },
     "execution_count": 65,
     "metadata": {},
     "output_type": "execute_result"
    }
   ],
   "source": [
    "label_gen_stars(df['SpType'])"
   ]
  },
  {
   "cell_type": "code",
   "execution_count": 69,
   "metadata": {},
   "outputs": [],
   "source": [
    "lista = []\n",
    "for element in df['SpType']:\n",
    "    lista.append(label_gen_stars(element))\n",
    "df['SType'] = lista"
   ]
  },
  {
   "cell_type": "code",
   "execution_count": 151,
   "metadata": {},
   "outputs": [],
   "source": [
    "final_cols = ['B-V(mag)','Temperature','Plx','Lum(Lsun)','Mass','Radius(Rsun)','SType']\n",
    "\n",
    "final_cols2 = ['Temperature','Lum(Lsun)','Radius(Rsun)','HpMag(mag)','Mass','SType']\n",
    "\n",
    "df2 = df[final_cols2]\n",
    "\n",
    "\n",
    "new_cols = ['Temperature','L','R','A_M','mass','Type']\n",
    "\n",
    "change_cols2 = dict(zip(final_cols2, new_cols))\n",
    "\n"
   ]
  },
  {
   "cell_type": "code",
   "execution_count": 152,
   "metadata": {},
   "outputs": [
    {
     "name": "stderr",
     "output_type": "stream",
     "text": [
      "<ipython-input-152-c48dd3326fa5>:3: SettingWithCopyWarning: \n",
      "A value is trying to be set on a copy of a slice from a DataFrame\n",
      "\n",
      "See the caveats in the documentation: https://pandas.pydata.org/pandas-docs/stable/user_guide/indexing.html#returning-a-view-versus-a-copy\n",
      "  df2.rename(columns = change_cols2, inplace = True)\n"
     ]
    }
   ],
   "source": [
    "change_cols2 = dict(zip(final_cols2, new_cols))\n",
    "change_cols2\n",
    "df2.rename(columns = change_cols2, inplace = True)\n",
    "\n",
    "df2.to_csv('DataStars1.csv', index=False)"
   ]
  },
  {
   "cell_type": "code",
   "execution_count": 153,
   "metadata": {},
   "outputs": [],
   "source": [
    "df2 = df2[df2['R'] != 0]\n"
   ]
  },
  {
   "cell_type": "code",
   "execution_count": 157,
   "metadata": {},
   "outputs": [
    {
     "data": {
      "text/plain": [
       "1.4285714285714287e-05"
      ]
     },
     "execution_count": 157,
     "metadata": {},
     "output_type": "execute_result"
    }
   ],
   "source": [
    "min(df2['mass'])"
   ]
  },
  {
   "cell_type": "code",
   "execution_count": 156,
   "metadata": {},
   "outputs": [],
   "source": [
    "df2\n",
    "df2.to_csv('DataStars1.csv', index=False)"
   ]
  }
 ],
 "metadata": {
  "kernelspec": {
   "display_name": "Python 3",
   "language": "python",
   "name": "python3"
  },
  "language_info": {
   "codemirror_mode": {
    "name": "ipython",
    "version": 3
   },
   "file_extension": ".py",
   "mimetype": "text/x-python",
   "name": "python",
   "nbconvert_exporter": "python",
   "pygments_lexer": "ipython3",
   "version": "3.8.3"
  }
 },
 "nbformat": 4,
 "nbformat_minor": 4
}
